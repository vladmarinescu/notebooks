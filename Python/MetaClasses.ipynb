{
 "cells": [
  {
   "cell_type": "markdown",
   "metadata": {},
   "source": [
    "## Understanding Metaclasses \n",
    "\n",
    "A class defines the rules for an object. It defines attributes, methods, operations etc. \n",
    "But in Python a class is an object in itself, right?  \n",
    "Python docs: \"[As in Smalltalk, classes themselves are objects.](https://docs.python.org/3/tutorial/classes.html)\"? \n",
    "\n",
    "So if a class is an object - What defines how it behaves ? A metaclass. \n",
    "\n",
    "Metaclass definition: [A metaclass in Python is a class of a class that defines how a class behaves. A class is itself an instance of a metaclass.](https://www.datacamp.com/community/tutorials/python-metaclasses)\n"
   ]
  },
  {
   "cell_type": "code",
   "execution_count": 26,
   "metadata": {},
   "outputs": [
    {
     "name": "stdout",
     "output_type": "stream",
     "text": [
      "<class '__main__.SomeClass'>\n",
      "x is 10\n",
      "<class 'type'>\n"
     ]
    }
   ],
   "source": [
    "class SomeClass():\n",
    "    x = 10\n",
    "    pass \n",
    "\n",
    "print(type(SomeClass()))\n",
    "print(\"x is\",SomeClass().x)\n",
    "print(type(SomeClass))"
   ]
  },
  {
   "cell_type": "markdown",
   "metadata": {},
   "source": [
    "As expected, the SomeClass instance is of type `SomeClass` but also the class itself is of type `type`. So what ? This actually means that the syntax we write is actually a form for us to call `type`. How else can we define a class ?"
   ]
  },
  {
   "cell_type": "code",
   "execution_count": 27,
   "metadata": {},
   "outputs": [
    {
     "name": "stdout",
     "output_type": "stream",
     "text": [
      "<class '__main__.SomeClass'>\n",
      "x is 5\n",
      "<class 'type'>\n"
     ]
    }
   ],
   "source": [
    "SomeClass = type('SomeClass',(),{\"x\":5}) # the 3 parameters are name, bases (inherited), attributes \n",
    "\n",
    "print(type(SomeClass()))\n",
    "print(\"x is\",SomeClass().x)\n",
    "print(type(SomeClass))"
   ]
  },
  {
   "cell_type": "markdown",
   "metadata": {},
   "source": [
    "### So how do methods work ? "
   ]
  },
  {
   "cell_type": "code",
   "execution_count": 28,
   "metadata": {},
   "outputs": [
    {
     "name": "stdout",
     "output_type": "stream",
     "text": [
      "From Foo\n",
      "From SomeClass\n"
     ]
    }
   ],
   "source": [
    "class Foo:\n",
    "    def show(self):\n",
    "        print(\"From Foo\")\n",
    "        \n",
    "def some_function(self):\n",
    "    print(\"From SomeClass\")\n",
    "\n",
    "SomeClass = type('SomeClass',(Foo,),{\"x\":5, \"some_function\":some_function})\n",
    "\n",
    "some_instance = SomeClass()\n",
    "some_instance.show()\n",
    "some_instance.some_function()"
   ]
  },
  {
   "cell_type": "markdown",
   "metadata": {},
   "source": [
    "Now we've seen that the `class` is just a way to call the metaclass `type`, can we create our own metaclass ? \n",
    "\n",
    "Our metaclass will be called `Meta` and we will crete a `__new__` function:\n",
    "\n",
    "\n",
    "`__new__`\n",
    "* This is called before the `__init__` method. \n",
    "* Where `__init__` initialises the class, `__new__` modifies the construction of it. As such our parameters will be the same as `type`"
   ]
  },
  {
   "cell_type": "code",
   "execution_count": 29,
   "metadata": {},
   "outputs": [],
   "source": [
    "class Meta(type):\n",
    "    def __new__(self, class_name, bases, attributes):\n",
    "        print(attributes)\n",
    "        return type(class_name, bases, attributes)"
   ]
  },
  {
   "cell_type": "code",
   "execution_count": 30,
   "metadata": {},
   "outputs": [
    {
     "name": "stdout",
     "output_type": "stream",
     "text": [
      "{'__module__': '__main__', '__qualname__': 'Bar', 'parameter': 5, '__init__': <function Bar.__init__ at 0x7fbd27ac4830>, 'show': <function Bar.show at 0x7fbd27ac4680>}\n",
      "From Bar\n"
     ]
    }
   ],
   "source": [
    "class Bar(metaclass=Meta):\n",
    "    \n",
    "    parameter = 5\n",
    "    \n",
    "    def __init__(self, value):\n",
    "        self.value = value\n",
    "        \n",
    "    def show(self):\n",
    "        print(\"From Bar\")\n",
    "        \n",
    "bar = Bar(10)\n",
    "bar.show()"
   ]
  },
  {
   "cell_type": "markdown",
   "metadata": {},
   "source": [
    "As can be seen, we hooked into the construction of the class and printed out the attributes. This gives us a lot of power in controlling that class. For example, we can delete all the methods when the class is created (but we will leave the __ ones). "
   ]
  },
  {
   "cell_type": "code",
   "execution_count": 31,
   "metadata": {},
   "outputs": [
    {
     "ename": "AttributeError",
     "evalue": "'Bar' object has no attribute 'show'",
     "output_type": "error",
     "traceback": [
      "\u001b[0;31m---------------------------------------------------------------------------\u001b[0m",
      "\u001b[0;31mAttributeError\u001b[0m                            Traceback (most recent call last)",
      "\u001b[0;32m<ipython-input-31-7831a46fb9c7>\u001b[0m in \u001b[0;36m<module>\u001b[0;34m\u001b[0m\n\u001b[1;32m     21\u001b[0m \u001b[0;34m\u001b[0m\u001b[0m\n\u001b[1;32m     22\u001b[0m \u001b[0mbar\u001b[0m \u001b[0;34m=\u001b[0m \u001b[0mBar\u001b[0m\u001b[0;34m(\u001b[0m\u001b[0;36m10\u001b[0m\u001b[0;34m)\u001b[0m\u001b[0;34m\u001b[0m\u001b[0;34m\u001b[0m\u001b[0m\n\u001b[0;32m---> 23\u001b[0;31m \u001b[0mbar\u001b[0m\u001b[0;34m.\u001b[0m\u001b[0mshow\u001b[0m\u001b[0;34m(\u001b[0m\u001b[0;34m)\u001b[0m\u001b[0;34m\u001b[0m\u001b[0;34m\u001b[0m\u001b[0m\n\u001b[0m",
      "\u001b[0;31mAttributeError\u001b[0m: 'Bar' object has no attribute 'show'"
     ]
    }
   ],
   "source": [
    "import inspect \n",
    "\n",
    "class Meta(type):\n",
    "    def __new__(self, class_name, bases, attributes):\n",
    "        attrs = {}\n",
    "        for key, value in attributes.items():\n",
    "            if not inspect.isfunction(value) or key.startswith(\"__\"):\n",
    "                attrs[key] = value \n",
    "                \n",
    "        return type(class_name, bases, attrs)\n",
    "\n",
    "class Bar(metaclass=Meta):\n",
    "    \n",
    "    parameter = 5\n",
    "    \n",
    "    def __init__(self, value):\n",
    "        self.value = value\n",
    "        \n",
    "    def show(self):\n",
    "        print(\"From Bar\")\n",
    "        \n",
    "bar = Bar(10)\n",
    "bar.show()"
   ]
  },
  {
   "cell_type": "markdown",
   "metadata": {},
   "source": [
    "And if we run this, as expected we will get an AttributeError `'Bar' object has no attribute 'show'`"
   ]
  },
  {
   "cell_type": "markdown",
   "metadata": {},
   "source": [
    "## Now onto a useful example of metaclasses\n",
    "\n",
    "Say you have some class that you only want to have one instance of - perhaps you would want that because it performs a computation that takes long and it never needs to be computed again in the same Python Process. We can use a `Singleton` for that. [The `singleton pattern` is a software design pattern that restricts the instantiation of a class to one \"single\" instance.](https://en.wikipedia.org/wiki/Singleton_pattern)"
   ]
  },
  {
   "cell_type": "code",
   "execution_count": 35,
   "metadata": {},
   "outputs": [],
   "source": [
    "class Singleton(type):\n",
    "    _instances = {}\n",
    "    def __call__(cls, *args, **kwargs):\n",
    "        if cls not in cls._instances:\n",
    "            cls._instances[cls] = super(Singleton, cls).__call__(*args, **kwargs)\n",
    "        return cls._instances[cls]"
   ]
  },
  {
   "cell_type": "code",
   "execution_count": 40,
   "metadata": {},
   "outputs": [],
   "source": [
    "class Process(metaclass=Singleton):\n",
    "    def __init__(self):\n",
    "        self.has_processed = False\n",
    "        self.__data = None\n",
    "        \n",
    "    def process(self):\n",
    "        if not self.has_processed:\n",
    "            print(\"Processing...\")\n",
    "            self.__data = [1,2,3]\n",
    "            self.has_processed = True\n",
    "            \n",
    "    @property\n",
    "    def data(self):\n",
    "        self.process()\n",
    "        return self.__data"
   ]
  },
  {
   "cell_type": "code",
   "execution_count": 41,
   "metadata": {},
   "outputs": [],
   "source": [
    "process1 = Process()"
   ]
  },
  {
   "cell_type": "code",
   "execution_count": 42,
   "metadata": {},
   "outputs": [
    {
     "name": "stdout",
     "output_type": "stream",
     "text": [
      "Processing...\n",
      "Data is: [1, 2, 3]\n"
     ]
    }
   ],
   "source": [
    "print(\"Data is:\",process1.data)"
   ]
  },
  {
   "cell_type": "markdown",
   "metadata": {},
   "source": [
    "#### So, above we did run the process"
   ]
  },
  {
   "cell_type": "code",
   "execution_count": 43,
   "metadata": {},
   "outputs": [],
   "source": [
    "process2 = Process()"
   ]
  },
  {
   "cell_type": "code",
   "execution_count": 44,
   "metadata": {},
   "outputs": [
    {
     "name": "stdout",
     "output_type": "stream",
     "text": [
      "Data is: [1, 2, 3]\n"
     ]
    }
   ],
   "source": [
    "print(\"Data is:\",process1.data)"
   ]
  },
  {
   "cell_type": "markdown",
   "metadata": {},
   "source": [
    "#### And here we did not"
   ]
  },
  {
   "cell_type": "markdown",
   "metadata": {},
   "source": [
    "## Caution! \n",
    "Of course meta classes are extremely powerful and can easily make you run around in circles to find your bugs - use them with caution! \n",
    "\n",
    "Imagine a scenario where you write the `Process` class above and you want to inherit from it to use it elsewhere. All sub-classes will also be Singletons! - and you may not see that. "
   ]
  },
  {
   "cell_type": "code",
   "execution_count": 47,
   "metadata": {},
   "outputs": [],
   "source": [
    "class SomeSubProcess(Process):\n",
    "    def __init__(self, value):\n",
    "        super().__init__()\n",
    "        self.x = value"
   ]
  },
  {
   "cell_type": "code",
   "execution_count": 49,
   "metadata": {},
   "outputs": [
    {
     "name": "stdout",
     "output_type": "stream",
     "text": [
      "sb1 x 1\n",
      "sb2 x 1\n"
     ]
    }
   ],
   "source": [
    "sb1 = SomeSubProcess(1)\n",
    "sb2 = SomeSubProcess(10000)\n",
    "print(\"sb1 x\", sb1.x)\n",
    "print(\"sb2 x\", sb2.x)"
   ]
  },
  {
   "cell_type": "markdown",
   "metadata": {},
   "source": [
    "### If you missed the fact that `Process` was a `Singleton`, it will be very hard to debug why sb2.x is not 10000.\n",
    "\n",
    "Thanks to [Tech With Tim](https://www.youtube.com/channel/UC4JX40jDee_tINbkjycV4Sg) for his tutorials. "
   ]
  },
  {
   "cell_type": "code",
   "execution_count": null,
   "metadata": {},
   "outputs": [],
   "source": []
  }
 ],
 "metadata": {
  "kernelspec": {
   "display_name": "Python 3",
   "language": "python",
   "name": "python3"
  },
  "language_info": {
   "codemirror_mode": {
    "name": "ipython",
    "version": 3
   },
   "file_extension": ".py",
   "mimetype": "text/x-python",
   "name": "python",
   "nbconvert_exporter": "python",
   "pygments_lexer": "ipython3",
   "version": "3.7.4"
  }
 },
 "nbformat": 4,
 "nbformat_minor": 5
}
